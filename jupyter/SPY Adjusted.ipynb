{
 "cells": [
  {
   "cell_type": "code",
   "execution_count": 1,
   "metadata": {},
   "outputs": [
    {
     "name": "stderr",
     "output_type": "stream",
     "text": [
      "/Library/Frameworks/Python.framework/Versions/3.8/lib/python3.8/site-packages/pandas_datareader/compat/__init__.py:7: FutureWarning: pandas.util.testing is deprecated. Use the functions in the public API at pandas.testing instead.\n",
      "  from pandas.util.testing import assert_frame_equal\n"
     ]
    }
   ],
   "source": [
    "from pandas_datareader import data, wb\n",
    "import pandas as pd\n",
    "import numpy as np\n",
    "import datetime\n",
    "import matplotlib.pyplot as plt\n",
    "import seaborn as sns\n",
    "%matplotlib inline"
   ]
  },
  {
   "cell_type": "code",
   "execution_count": 21,
   "metadata": {},
   "outputs": [],
   "source": [
    "start = datetime.datetime(1993, 1, 1)\n",
    "end = datetime.datetime.now()\n",
    "spy = data.DataReader(\"SPY\", 'yahoo', start, end)\n",
    "gld = data.DataReader(\"GLD\", 'yahoo', start, end)\n",
    "inflation = data.DataReader(['CPIAUCSL'], 'fred', start, end)\n",
    "gdp = data.DataReader(['GDP'], 'fred', start, end)\n",
    "\n",
    "# extract close price and change column name\n",
    "spy =pd.DataFrame(spy['Close'])\n",
    "spy = spy.rename(columns={'Close':\"spy\"})\n",
    "gld =pd.DataFrame(gld['Close'])\n",
    "gld = gld.rename(columns={'Close':\"gld\"})\n"
   ]
  },
  {
   "cell_type": "code",
   "execution_count": null,
   "metadata": {},
   "outputs": [],
   "source": []
  },
  {
   "cell_type": "code",
   "execution_count": null,
   "metadata": {},
   "outputs": [],
   "source": []
  },
  {
   "cell_type": "code",
   "execution_count": 22,
   "metadata": {},
   "outputs": [],
   "source": [
    "pd.options.display.min_rows = 999"
   ]
  },
  {
   "cell_type": "code",
   "execution_count": 23,
   "metadata": {},
   "outputs": [],
   "source": [
    "\n",
    "comb = gdp.join(spy, how=\"outer\").join(inflation, how=\"outer\").join(gld, how=\"outer\")\n",
    "comb = comb.rename(columns={\"GDP\":\"gdp\", \"CPIAUCSL\":\"inflation\"})\n",
    "comb['gdp']=comb['gdp'].interpolate()\n",
    "comb['inflation']=comb['inflation'].interpolate()\n",
    "comb=comb['1993-02-01':]\n",
    "# comb=comb['1993-02-01':'2019-10-01']\n"
   ]
  },
  {
   "cell_type": "code",
   "execution_count": 24,
   "metadata": {},
   "outputs": [],
   "source": [
    "comb['infAdj-spy']=(comb['spy']/comb['inflation'])*100\n",
    "comb['gdpAdj-spy']=(comb['spy']/comb['gdp'])*100\n",
    "comb['gdpinfAdj-spy']=(comb['gdpAdj-spy']/comb['inflation'])*100\n",
    "comb['infAdj-gld']=(comb['gld']/comb['inflation'])*100\n"
   ]
  },
  {
   "cell_type": "code",
   "execution_count": 25,
   "metadata": {},
   "outputs": [
    {
     "data": {
      "text/html": [
       "<div>\n",
       "<style scoped>\n",
       "    .dataframe tbody tr th:only-of-type {\n",
       "        vertical-align: middle;\n",
       "    }\n",
       "\n",
       "    .dataframe tbody tr th {\n",
       "        vertical-align: top;\n",
       "    }\n",
       "\n",
       "    .dataframe thead th {\n",
       "        text-align: right;\n",
       "    }\n",
       "</style>\n",
       "<table border=\"1\" class=\"dataframe\">\n",
       "  <thead>\n",
       "    <tr style=\"text-align: right;\">\n",
       "      <th></th>\n",
       "      <th>gdp</th>\n",
       "      <th>spy</th>\n",
       "      <th>inflation</th>\n",
       "      <th>gld</th>\n",
       "      <th>infAdj-spy</th>\n",
       "      <th>gdpAdj-spy</th>\n",
       "      <th>gdpinfAdj-spy</th>\n",
       "      <th>infAdj-gld</th>\n",
       "    </tr>\n",
       "  </thead>\n",
       "  <tbody>\n",
       "    <tr>\n",
       "      <th>1993-02-01</th>\n",
       "      <td>6755.952333</td>\n",
       "      <td>NaN</td>\n",
       "      <td>143.100</td>\n",
       "      <td>NaN</td>\n",
       "      <td>NaN</td>\n",
       "      <td>NaN</td>\n",
       "      <td>NaN</td>\n",
       "      <td>NaN</td>\n",
       "    </tr>\n",
       "    <tr>\n",
       "      <th>1993-03-01</th>\n",
       "      <td>6782.445667</td>\n",
       "      <td>NaN</td>\n",
       "      <td>143.300</td>\n",
       "      <td>NaN</td>\n",
       "      <td>NaN</td>\n",
       "      <td>NaN</td>\n",
       "      <td>NaN</td>\n",
       "      <td>NaN</td>\n",
       "    </tr>\n",
       "    <tr>\n",
       "      <th>1993-04-01</th>\n",
       "      <td>6808.939000</td>\n",
       "      <td>NaN</td>\n",
       "      <td>143.800</td>\n",
       "      <td>NaN</td>\n",
       "      <td>NaN</td>\n",
       "      <td>NaN</td>\n",
       "      <td>NaN</td>\n",
       "      <td>NaN</td>\n",
       "    </tr>\n",
       "    <tr>\n",
       "      <th>1993-05-01</th>\n",
       "      <td>6833.325333</td>\n",
       "      <td>NaN</td>\n",
       "      <td>144.200</td>\n",
       "      <td>NaN</td>\n",
       "      <td>NaN</td>\n",
       "      <td>NaN</td>\n",
       "      <td>NaN</td>\n",
       "      <td>NaN</td>\n",
       "    </tr>\n",
       "    <tr>\n",
       "      <th>1993-06-01</th>\n",
       "      <td>6857.711667</td>\n",
       "      <td>NaN</td>\n",
       "      <td>144.300</td>\n",
       "      <td>NaN</td>\n",
       "      <td>NaN</td>\n",
       "      <td>NaN</td>\n",
       "      <td>NaN</td>\n",
       "      <td>NaN</td>\n",
       "    </tr>\n",
       "    <tr>\n",
       "      <th>1993-07-01</th>\n",
       "      <td>6882.098000</td>\n",
       "      <td>NaN</td>\n",
       "      <td>144.500</td>\n",
       "      <td>NaN</td>\n",
       "      <td>NaN</td>\n",
       "      <td>NaN</td>\n",
       "      <td>NaN</td>\n",
       "      <td>NaN</td>\n",
       "    </tr>\n",
       "    <tr>\n",
       "      <th>1993-08-01</th>\n",
       "      <td>6925.978000</td>\n",
       "      <td>NaN</td>\n",
       "      <td>144.800</td>\n",
       "      <td>NaN</td>\n",
       "      <td>NaN</td>\n",
       "      <td>NaN</td>\n",
       "      <td>NaN</td>\n",
       "      <td>NaN</td>\n",
       "    </tr>\n",
       "    <tr>\n",
       "      <th>1993-09-01</th>\n",
       "      <td>6969.858000</td>\n",
       "      <td>NaN</td>\n",
       "      <td>145.000</td>\n",
       "      <td>NaN</td>\n",
       "      <td>NaN</td>\n",
       "      <td>NaN</td>\n",
       "      <td>NaN</td>\n",
       "      <td>NaN</td>\n",
       "    </tr>\n",
       "    <tr>\n",
       "      <th>1993-10-01</th>\n",
       "      <td>7013.738000</td>\n",
       "      <td>NaN</td>\n",
       "      <td>145.600</td>\n",
       "      <td>NaN</td>\n",
       "      <td>NaN</td>\n",
       "      <td>NaN</td>\n",
       "      <td>NaN</td>\n",
       "      <td>NaN</td>\n",
       "    </tr>\n",
       "    <tr>\n",
       "      <th>1993-11-01</th>\n",
       "      <td>7047.709333</td>\n",
       "      <td>NaN</td>\n",
       "      <td>146.000</td>\n",
       "      <td>NaN</td>\n",
       "      <td>NaN</td>\n",
       "      <td>NaN</td>\n",
       "      <td>NaN</td>\n",
       "      <td>NaN</td>\n",
       "    </tr>\n",
       "    <tr>\n",
       "      <th>1993-12-01</th>\n",
       "      <td>7081.680667</td>\n",
       "      <td>NaN</td>\n",
       "      <td>146.300</td>\n",
       "      <td>NaN</td>\n",
       "      <td>NaN</td>\n",
       "      <td>NaN</td>\n",
       "      <td>NaN</td>\n",
       "      <td>NaN</td>\n",
       "    </tr>\n",
       "    <tr>\n",
       "      <th>1994-01-01</th>\n",
       "      <td>7115.652000</td>\n",
       "      <td>NaN</td>\n",
       "      <td>146.300</td>\n",
       "      <td>NaN</td>\n",
       "      <td>NaN</td>\n",
       "      <td>NaN</td>\n",
       "      <td>NaN</td>\n",
       "      <td>NaN</td>\n",
       "    </tr>\n",
       "    <tr>\n",
       "      <th>1994-02-01</th>\n",
       "      <td>7159.411667</td>\n",
       "      <td>NaN</td>\n",
       "      <td>146.700</td>\n",
       "      <td>NaN</td>\n",
       "      <td>NaN</td>\n",
       "      <td>NaN</td>\n",
       "      <td>NaN</td>\n",
       "      <td>NaN</td>\n",
       "    </tr>\n",
       "    <tr>\n",
       "      <th>1994-03-01</th>\n",
       "      <td>7203.171333</td>\n",
       "      <td>NaN</td>\n",
       "      <td>147.100</td>\n",
       "      <td>NaN</td>\n",
       "      <td>NaN</td>\n",
       "      <td>NaN</td>\n",
       "      <td>NaN</td>\n",
       "      <td>NaN</td>\n",
       "    </tr>\n",
       "    <tr>\n",
       "      <th>1994-04-01</th>\n",
       "      <td>7246.931000</td>\n",
       "      <td>NaN</td>\n",
       "      <td>147.200</td>\n",
       "      <td>NaN</td>\n",
       "      <td>NaN</td>\n",
       "      <td>NaN</td>\n",
       "      <td>NaN</td>\n",
       "      <td>NaN</td>\n",
       "    </tr>\n",
       "    <tr>\n",
       "      <th>1994-05-01</th>\n",
       "      <td>7274.979000</td>\n",
       "      <td>NaN</td>\n",
       "      <td>147.500</td>\n",
       "      <td>NaN</td>\n",
       "      <td>NaN</td>\n",
       "      <td>NaN</td>\n",
       "      <td>NaN</td>\n",
       "      <td>NaN</td>\n",
       "    </tr>\n",
       "    <tr>\n",
       "      <th>1994-06-01</th>\n",
       "      <td>7303.027000</td>\n",
       "      <td>NaN</td>\n",
       "      <td>147.900</td>\n",
       "      <td>NaN</td>\n",
       "      <td>NaN</td>\n",
       "      <td>NaN</td>\n",
       "      <td>NaN</td>\n",
       "      <td>NaN</td>\n",
       "    </tr>\n",
       "    <tr>\n",
       "      <th>1994-07-01</th>\n",
       "      <td>7331.075000</td>\n",
       "      <td>NaN</td>\n",
       "      <td>148.400</td>\n",
       "      <td>NaN</td>\n",
       "      <td>NaN</td>\n",
       "      <td>NaN</td>\n",
       "      <td>NaN</td>\n",
       "      <td>NaN</td>\n",
       "    </tr>\n",
       "    <tr>\n",
       "      <th>1994-08-01</th>\n",
       "      <td>7372.479333</td>\n",
       "      <td>NaN</td>\n",
       "      <td>149.000</td>\n",
       "      <td>NaN</td>\n",
       "      <td>NaN</td>\n",
       "      <td>NaN</td>\n",
       "      <td>NaN</td>\n",
       "      <td>NaN</td>\n",
       "    </tr>\n",
       "    <tr>\n",
       "      <th>1994-09-01</th>\n",
       "      <td>7413.883667</td>\n",
       "      <td>NaN</td>\n",
       "      <td>149.300</td>\n",
       "      <td>NaN</td>\n",
       "      <td>NaN</td>\n",
       "      <td>NaN</td>\n",
       "      <td>NaN</td>\n",
       "      <td>NaN</td>\n",
       "    </tr>\n",
       "    <tr>\n",
       "      <th>1994-10-01</th>\n",
       "      <td>7455.288000</td>\n",
       "      <td>NaN</td>\n",
       "      <td>149.400</td>\n",
       "      <td>NaN</td>\n",
       "      <td>NaN</td>\n",
       "      <td>NaN</td>\n",
       "      <td>NaN</td>\n",
       "      <td>NaN</td>\n",
       "    </tr>\n",
       "    <tr>\n",
       "      <th>1994-11-01</th>\n",
       "      <td>7477.621667</td>\n",
       "      <td>NaN</td>\n",
       "      <td>149.800</td>\n",
       "      <td>NaN</td>\n",
       "      <td>NaN</td>\n",
       "      <td>NaN</td>\n",
       "      <td>NaN</td>\n",
       "      <td>NaN</td>\n",
       "    </tr>\n",
       "    <tr>\n",
       "      <th>1994-12-01</th>\n",
       "      <td>7499.955333</td>\n",
       "      <td>NaN</td>\n",
       "      <td>150.100</td>\n",
       "      <td>NaN</td>\n",
       "      <td>NaN</td>\n",
       "      <td>NaN</td>\n",
       "      <td>NaN</td>\n",
       "      <td>NaN</td>\n",
       "    </tr>\n",
       "    <tr>\n",
       "      <th>1995-01-01</th>\n",
       "      <td>7522.289000</td>\n",
       "      <td>NaN</td>\n",
       "      <td>150.500</td>\n",
       "      <td>NaN</td>\n",
       "      <td>NaN</td>\n",
       "      <td>NaN</td>\n",
       "      <td>NaN</td>\n",
       "      <td>NaN</td>\n",
       "    </tr>\n",
       "    <tr>\n",
       "      <th>1995-02-01</th>\n",
       "      <td>7541.858333</td>\n",
       "      <td>NaN</td>\n",
       "      <td>150.900</td>\n",
       "      <td>NaN</td>\n",
       "      <td>NaN</td>\n",
       "      <td>NaN</td>\n",
       "      <td>NaN</td>\n",
       "      <td>NaN</td>\n",
       "    </tr>\n",
       "    <tr>\n",
       "      <th>1995-03-01</th>\n",
       "      <td>7561.427667</td>\n",
       "      <td>NaN</td>\n",
       "      <td>151.200</td>\n",
       "      <td>NaN</td>\n",
       "      <td>NaN</td>\n",
       "      <td>NaN</td>\n",
       "      <td>NaN</td>\n",
       "      <td>NaN</td>\n",
       "    </tr>\n",
       "    <tr>\n",
       "      <th>1995-04-01</th>\n",
       "      <td>7580.997000</td>\n",
       "      <td>NaN</td>\n",
       "      <td>151.800</td>\n",
       "      <td>NaN</td>\n",
       "      <td>NaN</td>\n",
       "      <td>NaN</td>\n",
       "      <td>NaN</td>\n",
       "      <td>NaN</td>\n",
       "    </tr>\n",
       "    <tr>\n",
       "      <th>1995-05-01</th>\n",
       "      <td>7615.039667</td>\n",
       "      <td>NaN</td>\n",
       "      <td>152.100</td>\n",
       "      <td>NaN</td>\n",
       "      <td>NaN</td>\n",
       "      <td>NaN</td>\n",
       "      <td>NaN</td>\n",
       "      <td>NaN</td>\n",
       "    </tr>\n",
       "    <tr>\n",
       "      <th>1995-06-01</th>\n",
       "      <td>7649.082333</td>\n",
       "      <td>NaN</td>\n",
       "      <td>152.400</td>\n",
       "      <td>NaN</td>\n",
       "      <td>NaN</td>\n",
       "      <td>NaN</td>\n",
       "      <td>NaN</td>\n",
       "      <td>NaN</td>\n",
       "    </tr>\n",
       "    <tr>\n",
       "      <th>1995-07-01</th>\n",
       "      <td>7683.125000</td>\n",
       "      <td>NaN</td>\n",
       "      <td>152.600</td>\n",
       "      <td>NaN</td>\n",
       "      <td>NaN</td>\n",
       "      <td>NaN</td>\n",
       "      <td>NaN</td>\n",
       "      <td>NaN</td>\n",
       "    </tr>\n",
       "    <tr>\n",
       "      <th>...</th>\n",
       "      <td>...</td>\n",
       "      <td>...</td>\n",
       "      <td>...</td>\n",
       "      <td>...</td>\n",
       "      <td>...</td>\n",
       "      <td>...</td>\n",
       "      <td>...</td>\n",
       "      <td>...</td>\n",
       "    </tr>\n",
       "    <tr>\n",
       "      <th>2020-11-19</th>\n",
       "      <td>21170.252000</td>\n",
       "      <td>292.380005</td>\n",
       "      <td>260.817</td>\n",
       "      <td>175.160004</td>\n",
       "      <td>112.101590</td>\n",
       "      <td>1.381089</td>\n",
       "      <td>0.529524</td>\n",
       "      <td>67.158200</td>\n",
       "    </tr>\n",
       "    <tr>\n",
       "      <th>2020-11-20</th>\n",
       "      <td>21170.252000</td>\n",
       "      <td>290.380005</td>\n",
       "      <td>260.817</td>\n",
       "      <td>175.690002</td>\n",
       "      <td>111.334769</td>\n",
       "      <td>1.371642</td>\n",
       "      <td>0.525902</td>\n",
       "      <td>67.361408</td>\n",
       "    </tr>\n",
       "    <tr>\n",
       "      <th>2020-11-23</th>\n",
       "      <td>21170.252000</td>\n",
       "      <td>290.390015</td>\n",
       "      <td>260.817</td>\n",
       "      <td>172.229996</td>\n",
       "      <td>111.338607</td>\n",
       "      <td>1.371689</td>\n",
       "      <td>0.525920</td>\n",
       "      <td>66.034804</td>\n",
       "    </tr>\n",
       "    <tr>\n",
       "      <th>2020-11-24</th>\n",
       "      <td>21170.252000</td>\n",
       "      <td>294.470001</td>\n",
       "      <td>260.817</td>\n",
       "      <td>169.589996</td>\n",
       "      <td>112.902917</td>\n",
       "      <td>1.390961</td>\n",
       "      <td>0.533309</td>\n",
       "      <td>65.022601</td>\n",
       "    </tr>\n",
       "    <tr>\n",
       "      <th>2020-11-25</th>\n",
       "      <td>21170.252000</td>\n",
       "      <td>296.279999</td>\n",
       "      <td>260.817</td>\n",
       "      <td>169.509995</td>\n",
       "      <td>113.596889</td>\n",
       "      <td>1.399511</td>\n",
       "      <td>0.536587</td>\n",
       "      <td>64.991927</td>\n",
       "    </tr>\n",
       "    <tr>\n",
       "      <th>2020-11-27</th>\n",
       "      <td>21170.252000</td>\n",
       "      <td>299.010010</td>\n",
       "      <td>260.817</td>\n",
       "      <td>167.789993</td>\n",
       "      <td>114.643604</td>\n",
       "      <td>1.412406</td>\n",
       "      <td>0.541532</td>\n",
       "      <td>64.332460</td>\n",
       "    </tr>\n",
       "    <tr>\n",
       "      <th>2020-11-30</th>\n",
       "      <td>21170.252000</td>\n",
       "      <td>299.619995</td>\n",
       "      <td>260.817</td>\n",
       "      <td>166.669998</td>\n",
       "      <td>114.877479</td>\n",
       "      <td>1.415288</td>\n",
       "      <td>0.542636</td>\n",
       "      <td>63.903042</td>\n",
       "    </tr>\n",
       "    <tr>\n",
       "      <th>2020-12-01</th>\n",
       "      <td>21170.252000</td>\n",
       "      <td>303.459991</td>\n",
       "      <td>260.817</td>\n",
       "      <td>170.179993</td>\n",
       "      <td>116.349775</td>\n",
       "      <td>1.433426</td>\n",
       "      <td>0.549591</td>\n",
       "      <td>65.248811</td>\n",
       "    </tr>\n",
       "    <tr>\n",
       "      <th>2020-12-02</th>\n",
       "      <td>21170.252000</td>\n",
       "      <td>303.850006</td>\n",
       "      <td>260.817</td>\n",
       "      <td>171.460007</td>\n",
       "      <td>116.499310</td>\n",
       "      <td>1.435269</td>\n",
       "      <td>0.550297</td>\n",
       "      <td>65.739582</td>\n",
       "    </tr>\n",
       "    <tr>\n",
       "      <th>2020-12-03</th>\n",
       "      <td>21170.252000</td>\n",
       "      <td>304.279999</td>\n",
       "      <td>260.817</td>\n",
       "      <td>172.809998</td>\n",
       "      <td>116.664174</td>\n",
       "      <td>1.437300</td>\n",
       "      <td>0.551076</td>\n",
       "      <td>66.257183</td>\n",
       "    </tr>\n",
       "    <tr>\n",
       "      <th>2020-12-04</th>\n",
       "      <td>21170.252000</td>\n",
       "      <td>305.519989</td>\n",
       "      <td>260.817</td>\n",
       "      <td>172.320007</td>\n",
       "      <td>117.139599</td>\n",
       "      <td>1.443157</td>\n",
       "      <td>0.553322</td>\n",
       "      <td>66.069316</td>\n",
       "    </tr>\n",
       "    <tr>\n",
       "      <th>2020-12-07</th>\n",
       "      <td>21170.252000</td>\n",
       "      <td>307.250000</td>\n",
       "      <td>260.817</td>\n",
       "      <td>174.889999</td>\n",
       "      <td>117.802904</td>\n",
       "      <td>1.451329</td>\n",
       "      <td>0.556455</td>\n",
       "      <td>67.054678</td>\n",
       "    </tr>\n",
       "    <tr>\n",
       "      <th>2020-12-08</th>\n",
       "      <td>21170.252000</td>\n",
       "      <td>308.290009</td>\n",
       "      <td>260.817</td>\n",
       "      <td>175.500000</td>\n",
       "      <td>118.201654</td>\n",
       "      <td>1.456242</td>\n",
       "      <td>0.558338</td>\n",
       "      <td>67.288559</td>\n",
       "    </tr>\n",
       "    <tr>\n",
       "      <th>2020-12-09</th>\n",
       "      <td>21170.252000</td>\n",
       "      <td>301.309998</td>\n",
       "      <td>260.817</td>\n",
       "      <td>172.500000</td>\n",
       "      <td>115.525444</td>\n",
       "      <td>1.423271</td>\n",
       "      <td>0.545697</td>\n",
       "      <td>66.138327</td>\n",
       "    </tr>\n",
       "    <tr>\n",
       "      <th>2020-12-10</th>\n",
       "      <td>21170.252000</td>\n",
       "      <td>302.519989</td>\n",
       "      <td>260.817</td>\n",
       "      <td>172.169998</td>\n",
       "      <td>115.989368</td>\n",
       "      <td>1.428986</td>\n",
       "      <td>0.547888</td>\n",
       "      <td>66.011801</td>\n",
       "    </tr>\n",
       "    <tr>\n",
       "      <th>2020-12-11</th>\n",
       "      <td>21170.252000</td>\n",
       "      <td>301.850006</td>\n",
       "      <td>260.817</td>\n",
       "      <td>172.490005</td>\n",
       "      <td>115.732489</td>\n",
       "      <td>1.425822</td>\n",
       "      <td>0.546675</td>\n",
       "      <td>66.134495</td>\n",
       "    </tr>\n",
       "    <tr>\n",
       "      <th>2020-12-14</th>\n",
       "      <td>21170.252000</td>\n",
       "      <td>304.040009</td>\n",
       "      <td>260.817</td>\n",
       "      <td>171.539993</td>\n",
       "      <td>116.572159</td>\n",
       "      <td>1.436166</td>\n",
       "      <td>0.550641</td>\n",
       "      <td>65.770250</td>\n",
       "    </tr>\n",
       "    <tr>\n",
       "      <th>2020-12-15</th>\n",
       "      <td>21170.252000</td>\n",
       "      <td>307.290009</td>\n",
       "      <td>260.817</td>\n",
       "      <td>173.940002</td>\n",
       "      <td>117.818244</td>\n",
       "      <td>1.451518</td>\n",
       "      <td>0.556527</td>\n",
       "      <td>66.690439</td>\n",
       "    </tr>\n",
       "    <tr>\n",
       "      <th>2020-12-16</th>\n",
       "      <td>21170.252000</td>\n",
       "      <td>308.980011</td>\n",
       "      <td>260.817</td>\n",
       "      <td>174.899994</td>\n",
       "      <td>118.466208</td>\n",
       "      <td>1.459501</td>\n",
       "      <td>0.559588</td>\n",
       "      <td>67.058510</td>\n",
       "    </tr>\n",
       "    <tr>\n",
       "      <th>2020-12-17</th>\n",
       "      <td>21170.252000</td>\n",
       "      <td>311.000000</td>\n",
       "      <td>260.817</td>\n",
       "      <td>176.740005</td>\n",
       "      <td>119.240694</td>\n",
       "      <td>1.469043</td>\n",
       "      <td>0.563246</td>\n",
       "      <td>67.763990</td>\n",
       "    </tr>\n",
       "    <tr>\n",
       "      <th>2020-12-18</th>\n",
       "      <td>21170.252000</td>\n",
       "      <td>310.059998</td>\n",
       "      <td>260.817</td>\n",
       "      <td>176.440002</td>\n",
       "      <td>118.880287</td>\n",
       "      <td>1.464602</td>\n",
       "      <td>0.561544</td>\n",
       "      <td>67.648966</td>\n",
       "    </tr>\n",
       "    <tr>\n",
       "      <th>2020-12-21</th>\n",
       "      <td>21170.252000</td>\n",
       "      <td>308.920013</td>\n",
       "      <td>260.817</td>\n",
       "      <td>175.880005</td>\n",
       "      <td>118.443205</td>\n",
       "      <td>1.459217</td>\n",
       "      <td>0.559479</td>\n",
       "      <td>67.434257</td>\n",
       "    </tr>\n",
       "    <tr>\n",
       "      <th>2020-12-22</th>\n",
       "      <td>21170.252000</td>\n",
       "      <td>309.760010</td>\n",
       "      <td>260.817</td>\n",
       "      <td>174.490005</td>\n",
       "      <td>118.765268</td>\n",
       "      <td>1.463185</td>\n",
       "      <td>0.561001</td>\n",
       "      <td>66.901316</td>\n",
       "    </tr>\n",
       "    <tr>\n",
       "      <th>2020-12-23</th>\n",
       "      <td>21170.252000</td>\n",
       "      <td>308.200012</td>\n",
       "      <td>260.817</td>\n",
       "      <td>175.649994</td>\n",
       "      <td>118.167149</td>\n",
       "      <td>1.455816</td>\n",
       "      <td>0.558175</td>\n",
       "      <td>67.346068</td>\n",
       "    </tr>\n",
       "    <tr>\n",
       "      <th>2020-12-24</th>\n",
       "      <td>21170.252000</td>\n",
       "      <td>309.559998</td>\n",
       "      <td>260.817</td>\n",
       "      <td>176.350006</td>\n",
       "      <td>118.688581</td>\n",
       "      <td>1.462240</td>\n",
       "      <td>0.560638</td>\n",
       "      <td>67.614460</td>\n",
       "    </tr>\n",
       "    <tr>\n",
       "      <th>2020-12-28</th>\n",
       "      <td>21170.252000</td>\n",
       "      <td>312.679993</td>\n",
       "      <td>260.817</td>\n",
       "      <td>175.710007</td>\n",
       "      <td>119.884821</td>\n",
       "      <td>1.476978</td>\n",
       "      <td>0.566289</td>\n",
       "      <td>67.369077</td>\n",
       "    </tr>\n",
       "    <tr>\n",
       "      <th>2020-12-29</th>\n",
       "      <td>21170.252000</td>\n",
       "      <td>312.959991</td>\n",
       "      <td>260.817</td>\n",
       "      <td>176.350006</td>\n",
       "      <td>119.992175</td>\n",
       "      <td>1.478301</td>\n",
       "      <td>0.566796</td>\n",
       "      <td>67.614460</td>\n",
       "    </tr>\n",
       "    <tr>\n",
       "      <th>2020-12-30</th>\n",
       "      <td>21170.252000</td>\n",
       "      <td>312.970001</td>\n",
       "      <td>260.817</td>\n",
       "      <td>177.699997</td>\n",
       "      <td>119.996013</td>\n",
       "      <td>1.478348</td>\n",
       "      <td>0.566814</td>\n",
       "      <td>68.132061</td>\n",
       "    </tr>\n",
       "    <tr>\n",
       "      <th>2020-12-31</th>\n",
       "      <td>21170.252000</td>\n",
       "      <td>313.739990</td>\n",
       "      <td>260.817</td>\n",
       "      <td>178.360001</td>\n",
       "      <td>120.291235</td>\n",
       "      <td>1.481985</td>\n",
       "      <td>0.568209</td>\n",
       "      <td>68.385113</td>\n",
       "    </tr>\n",
       "    <tr>\n",
       "      <th>2021-01-04</th>\n",
       "      <td>21170.252000</td>\n",
       "      <td>308.920013</td>\n",
       "      <td>260.817</td>\n",
       "      <td>182.210007</td>\n",
       "      <td>118.443205</td>\n",
       "      <td>1.459217</td>\n",
       "      <td>0.559479</td>\n",
       "      <td>69.861246</td>\n",
       "    </tr>\n",
       "  </tbody>\n",
       "</table>\n",
       "<p>5660 rows × 8 columns</p>\n",
       "</div>"
      ],
      "text/plain": [
       "                     gdp         spy  inflation         gld  infAdj-spy  \\\n",
       "1993-02-01   6755.952333         NaN    143.100         NaN         NaN   \n",
       "1993-03-01   6782.445667         NaN    143.300         NaN         NaN   \n",
       "1993-04-01   6808.939000         NaN    143.800         NaN         NaN   \n",
       "1993-05-01   6833.325333         NaN    144.200         NaN         NaN   \n",
       "1993-06-01   6857.711667         NaN    144.300         NaN         NaN   \n",
       "1993-07-01   6882.098000         NaN    144.500         NaN         NaN   \n",
       "1993-08-01   6925.978000         NaN    144.800         NaN         NaN   \n",
       "1993-09-01   6969.858000         NaN    145.000         NaN         NaN   \n",
       "1993-10-01   7013.738000         NaN    145.600         NaN         NaN   \n",
       "1993-11-01   7047.709333         NaN    146.000         NaN         NaN   \n",
       "1993-12-01   7081.680667         NaN    146.300         NaN         NaN   \n",
       "1994-01-01   7115.652000         NaN    146.300         NaN         NaN   \n",
       "1994-02-01   7159.411667         NaN    146.700         NaN         NaN   \n",
       "1994-03-01   7203.171333         NaN    147.100         NaN         NaN   \n",
       "1994-04-01   7246.931000         NaN    147.200         NaN         NaN   \n",
       "1994-05-01   7274.979000         NaN    147.500         NaN         NaN   \n",
       "1994-06-01   7303.027000         NaN    147.900         NaN         NaN   \n",
       "1994-07-01   7331.075000         NaN    148.400         NaN         NaN   \n",
       "1994-08-01   7372.479333         NaN    149.000         NaN         NaN   \n",
       "1994-09-01   7413.883667         NaN    149.300         NaN         NaN   \n",
       "1994-10-01   7455.288000         NaN    149.400         NaN         NaN   \n",
       "1994-11-01   7477.621667         NaN    149.800         NaN         NaN   \n",
       "1994-12-01   7499.955333         NaN    150.100         NaN         NaN   \n",
       "1995-01-01   7522.289000         NaN    150.500         NaN         NaN   \n",
       "1995-02-01   7541.858333         NaN    150.900         NaN         NaN   \n",
       "1995-03-01   7561.427667         NaN    151.200         NaN         NaN   \n",
       "1995-04-01   7580.997000         NaN    151.800         NaN         NaN   \n",
       "1995-05-01   7615.039667         NaN    152.100         NaN         NaN   \n",
       "1995-06-01   7649.082333         NaN    152.400         NaN         NaN   \n",
       "1995-07-01   7683.125000         NaN    152.600         NaN         NaN   \n",
       "...                  ...         ...        ...         ...         ...   \n",
       "2020-11-19  21170.252000  292.380005    260.817  175.160004  112.101590   \n",
       "2020-11-20  21170.252000  290.380005    260.817  175.690002  111.334769   \n",
       "2020-11-23  21170.252000  290.390015    260.817  172.229996  111.338607   \n",
       "2020-11-24  21170.252000  294.470001    260.817  169.589996  112.902917   \n",
       "2020-11-25  21170.252000  296.279999    260.817  169.509995  113.596889   \n",
       "2020-11-27  21170.252000  299.010010    260.817  167.789993  114.643604   \n",
       "2020-11-30  21170.252000  299.619995    260.817  166.669998  114.877479   \n",
       "2020-12-01  21170.252000  303.459991    260.817  170.179993  116.349775   \n",
       "2020-12-02  21170.252000  303.850006    260.817  171.460007  116.499310   \n",
       "2020-12-03  21170.252000  304.279999    260.817  172.809998  116.664174   \n",
       "2020-12-04  21170.252000  305.519989    260.817  172.320007  117.139599   \n",
       "2020-12-07  21170.252000  307.250000    260.817  174.889999  117.802904   \n",
       "2020-12-08  21170.252000  308.290009    260.817  175.500000  118.201654   \n",
       "2020-12-09  21170.252000  301.309998    260.817  172.500000  115.525444   \n",
       "2020-12-10  21170.252000  302.519989    260.817  172.169998  115.989368   \n",
       "2020-12-11  21170.252000  301.850006    260.817  172.490005  115.732489   \n",
       "2020-12-14  21170.252000  304.040009    260.817  171.539993  116.572159   \n",
       "2020-12-15  21170.252000  307.290009    260.817  173.940002  117.818244   \n",
       "2020-12-16  21170.252000  308.980011    260.817  174.899994  118.466208   \n",
       "2020-12-17  21170.252000  311.000000    260.817  176.740005  119.240694   \n",
       "2020-12-18  21170.252000  310.059998    260.817  176.440002  118.880287   \n",
       "2020-12-21  21170.252000  308.920013    260.817  175.880005  118.443205   \n",
       "2020-12-22  21170.252000  309.760010    260.817  174.490005  118.765268   \n",
       "2020-12-23  21170.252000  308.200012    260.817  175.649994  118.167149   \n",
       "2020-12-24  21170.252000  309.559998    260.817  176.350006  118.688581   \n",
       "2020-12-28  21170.252000  312.679993    260.817  175.710007  119.884821   \n",
       "2020-12-29  21170.252000  312.959991    260.817  176.350006  119.992175   \n",
       "2020-12-30  21170.252000  312.970001    260.817  177.699997  119.996013   \n",
       "2020-12-31  21170.252000  313.739990    260.817  178.360001  120.291235   \n",
       "2021-01-04  21170.252000  308.920013    260.817  182.210007  118.443205   \n",
       "\n",
       "            gdpAdj-spy  gdpinfAdj-spy  infAdj-gld  \n",
       "1993-02-01         NaN            NaN         NaN  \n",
       "1993-03-01         NaN            NaN         NaN  \n",
       "1993-04-01         NaN            NaN         NaN  \n",
       "1993-05-01         NaN            NaN         NaN  \n",
       "1993-06-01         NaN            NaN         NaN  \n",
       "1993-07-01         NaN            NaN         NaN  \n",
       "1993-08-01         NaN            NaN         NaN  \n",
       "1993-09-01         NaN            NaN         NaN  \n",
       "1993-10-01         NaN            NaN         NaN  \n",
       "1993-11-01         NaN            NaN         NaN  \n",
       "1993-12-01         NaN            NaN         NaN  \n",
       "1994-01-01         NaN            NaN         NaN  \n",
       "1994-02-01         NaN            NaN         NaN  \n",
       "1994-03-01         NaN            NaN         NaN  \n",
       "1994-04-01         NaN            NaN         NaN  \n",
       "1994-05-01         NaN            NaN         NaN  \n",
       "1994-06-01         NaN            NaN         NaN  \n",
       "1994-07-01         NaN            NaN         NaN  \n",
       "1994-08-01         NaN            NaN         NaN  \n",
       "1994-09-01         NaN            NaN         NaN  \n",
       "1994-10-01         NaN            NaN         NaN  \n",
       "1994-11-01         NaN            NaN         NaN  \n",
       "1994-12-01         NaN            NaN         NaN  \n",
       "1995-01-01         NaN            NaN         NaN  \n",
       "1995-02-01         NaN            NaN         NaN  \n",
       "1995-03-01         NaN            NaN         NaN  \n",
       "1995-04-01         NaN            NaN         NaN  \n",
       "1995-05-01         NaN            NaN         NaN  \n",
       "1995-06-01         NaN            NaN         NaN  \n",
       "1995-07-01         NaN            NaN         NaN  \n",
       "...                ...            ...         ...  \n",
       "2020-11-19    1.381089       0.529524   67.158200  \n",
       "2020-11-20    1.371642       0.525902   67.361408  \n",
       "2020-11-23    1.371689       0.525920   66.034804  \n",
       "2020-11-24    1.390961       0.533309   65.022601  \n",
       "2020-11-25    1.399511       0.536587   64.991927  \n",
       "2020-11-27    1.412406       0.541532   64.332460  \n",
       "2020-11-30    1.415288       0.542636   63.903042  \n",
       "2020-12-01    1.433426       0.549591   65.248811  \n",
       "2020-12-02    1.435269       0.550297   65.739582  \n",
       "2020-12-03    1.437300       0.551076   66.257183  \n",
       "2020-12-04    1.443157       0.553322   66.069316  \n",
       "2020-12-07    1.451329       0.556455   67.054678  \n",
       "2020-12-08    1.456242       0.558338   67.288559  \n",
       "2020-12-09    1.423271       0.545697   66.138327  \n",
       "2020-12-10    1.428986       0.547888   66.011801  \n",
       "2020-12-11    1.425822       0.546675   66.134495  \n",
       "2020-12-14    1.436166       0.550641   65.770250  \n",
       "2020-12-15    1.451518       0.556527   66.690439  \n",
       "2020-12-16    1.459501       0.559588   67.058510  \n",
       "2020-12-17    1.469043       0.563246   67.763990  \n",
       "2020-12-18    1.464602       0.561544   67.648966  \n",
       "2020-12-21    1.459217       0.559479   67.434257  \n",
       "2020-12-22    1.463185       0.561001   66.901316  \n",
       "2020-12-23    1.455816       0.558175   67.346068  \n",
       "2020-12-24    1.462240       0.560638   67.614460  \n",
       "2020-12-28    1.476978       0.566289   67.369077  \n",
       "2020-12-29    1.478301       0.566796   67.614460  \n",
       "2020-12-30    1.478348       0.566814   68.132061  \n",
       "2020-12-31    1.481985       0.568209   68.385113  \n",
       "2021-01-04    1.459217       0.559479   69.861246  \n",
       "\n",
       "[5660 rows x 8 columns]"
      ]
     },
     "execution_count": 25,
     "metadata": {},
     "output_type": "execute_result"
    }
   ],
   "source": [
    "comb"
   ]
  },
  {
   "cell_type": "code",
   "execution_count": 26,
   "metadata": {},
   "outputs": [
    {
     "data": {
      "text/plain": [
       "<matplotlib.axes._subplots.AxesSubplot at 0x135ce9c70>"
      ]
     },
     "execution_count": 26,
     "metadata": {},
     "output_type": "execute_result"
    },
    {
     "data": {
      "image/png": "[encoded data removed]",
      "text/plain": [
       "<Figure size 432x288 with 1 Axes>"
      ]
     },
     "metadata": {
      "needs_background": "light"
     },
     "output_type": "display_data"
    }
   ],
   "source": [
    "# SPY\n",
    "comb['spy'].plot()"
   ]
  },
  {
   "cell_type": "code",
   "execution_count": 27,
   "metadata": {},
   "outputs": [
    {
     "data": {
      "text/plain": [
       "<matplotlib.axes._subplots.AxesSubplot at 0x133749940>"
      ]
     },
     "execution_count": 27,
     "metadata": {},
     "output_type": "execute_result"
    },
    {
     "data": {
      "image/png": "[encoded data removed]",
      "text/plain": [
       "<Figure size 432x288 with 1 Axes>"
      ]
     },
     "metadata": {
      "needs_background": "light"
     },
     "output_type": "display_data"
    }
   ],
   "source": [
    "# Inflation Adjusted SPY\n",
    "comb['infAdj-spy'].plot()"
   ]
  },
  {
   "cell_type": "code",
   "execution_count": 9,
   "metadata": {},
   "outputs": [
    {
     "data": {
      "text/plain": [
       "<matplotlib.axes._subplots.AxesSubplot at 0x132d2a400>"
      ]
     },
     "execution_count": 9,
     "metadata": {},
     "output_type": "execute_result"
    },
    {
     "data": {
      "image/png": "[encoded data removed]",
      "text/plain": [
       "<Figure size 432x288 with 1 Axes>"
      ]
     },
     "metadata": {
      "needs_background": "light"
     },
     "output_type": "display_data"
    }
   ],
   "source": [
    "# GDP Adjusted SPY\n",
    "comb['gdpAdj-spy'].plot()"
   ]
  },
  {
   "cell_type": "code",
   "execution_count": 10,
   "metadata": {},
   "outputs": [
    {
     "data": {
      "text/plain": [
       "<matplotlib.axes._subplots.AxesSubplot at 0x132f0e250>"
      ]
     },
     "execution_count": 10,
     "metadata": {},
     "output_type": "execute_result"
    },
    {
     "data": {
      "image/png": "[encoded data removed]",
      "text/plain": [
       "<Figure size 432x288 with 1 Axes>"
      ]
     },
     "metadata": {
      "needs_background": "light"
     },
     "output_type": "display_data"
    }
   ],
   "source": [
    "# GDP & Inflation Adjusted SPY\n",
    "comb['gdpinfAdj-spy'].plot()"
   ]
  },
  {
   "cell_type": "code",
   "execution_count": 11,
   "metadata": {},
   "outputs": [],
   "source": [
    "# GOLD"
   ]
  },
  {
   "cell_type": "code",
   "execution_count": 12,
   "metadata": {},
   "outputs": [
    {
     "data": {
      "text/plain": [
       "<matplotlib.axes._subplots.AxesSubplot at 0x13318ffa0>"
      ]
     },
     "execution_count": 12,
     "metadata": {},
     "output_type": "execute_result"
    },
    {
     "data": {
      "image/png": "[encoded data removed]",
      "text/plain": [
       "<Figure size 432x288 with 1 Axes>"
      ]
     },
     "metadata": {
      "needs_background": "light"
     },
     "output_type": "display_data"
    }
   ],
   "source": [
    "comb['gld'].plot()"
   ]
  },
  {
   "cell_type": "code",
   "execution_count": 13,
   "metadata": {},
   "outputs": [
    {
     "data": {
      "text/plain": [
       "<matplotlib.axes._subplots.AxesSubplot at 0x1333cc2e0>"
      ]
     },
     "execution_count": 13,
     "metadata": {},
     "output_type": "execute_result"
    },
    {
     "data": {
      "image/png": "[encoded data removed]",
      "text/plain": [
       "<Figure size 432x288 with 1 Axes>"
      ]
     },
     "metadata": {
      "needs_background": "light"
     },
     "output_type": "display_data"
    }
   ],
   "source": [
    "# Inflation Adjusted Gold\n",
    "comb['infAdj-gld'].plot()"
   ]
  },
  {
   "cell_type": "code",
   "execution_count": 14,
   "metadata": {},
   "outputs": [],
   "source": [
    "# CANADA\n"
   ]
  },
  {
   "cell_type": "code",
   "execution_count": 15,
   "metadata": {},
   "outputs": [],
   "source": [
    "start = datetime.datetime(2000, 1, 1)\n",
    "end = datetime.datetime.now()\n",
    "xiu = data.DataReader(\"XIU.TO\", 'yahoo', start, end)\n",
    "xiu =pd.DataFrame(xiu['Close'])\n",
    "xiu = xiu.rename(columns={'Close':\"xiu\"})\n",
    "\n",
    "canInflation = data.DataReader(['FPCPITOTLZGCAN'], 'fred', start, end)\n",
    "canInflation = canInflation.rename(columns={'FPCPITOTLZGCAN':\"canInflation\"})\n",
    "canGdp = data.DataReader(['MKTGDPCAA646NWDB'], 'fred', start, end)\n",
    "canGdp = canGdp.rename(columns={'MKTGDPCAA646NWDB':\"canGdp\"})"
   ]
  },
  {
   "cell_type": "code",
   "execution_count": 16,
   "metadata": {},
   "outputs": [],
   "source": [
    "combCan = xiu.join(canInflation, how=\"outer\").join(canGdp,how=\"outer\")\n",
    "combCan['canInflation']=combCan['canInflation'].interpolate()\n",
    "combCan['canGdp']=combCan['canGdp'].interpolate()\n",
    "combCan['infAdj-xiu']=(combCan['xiu']/combCan['canInflation'])*100\n",
    "combCan['gdpAdj-xiu']=(combCan['xiu']/combCan['canGdp'])*100\n",
    "combCan['gdpinfAdj-spy']=(combCan['gdpAdj-xiu']/combCan['canInflation'])*100\n"
   ]
  },
  {
   "cell_type": "code",
   "execution_count": 17,
   "metadata": {},
   "outputs": [
    {
     "data": {
      "text/plain": [
       "<matplotlib.axes._subplots.AxesSubplot at 0x133617a30>"
      ]
     },
     "execution_count": 17,
     "metadata": {},
     "output_type": "execute_result"
    },
    {
     "data": {
      "image/png": "[encoded data removed]",
      "text/plain": [
       "<Figure size 432x288 with 1 Axes>"
      ]
     },
     "metadata": {
      "needs_background": "light"
     },
     "output_type": "display_data"
    }
   ],
   "source": [
    "xiu.plot()"
   ]
  },
  {
   "cell_type": "code",
   "execution_count": 18,
   "metadata": {},
   "outputs": [
    {
     "data": {
      "text/plain": [
       "<matplotlib.axes._subplots.AxesSubplot at 0x1329e5d90>"
      ]
     },
     "execution_count": 18,
     "metadata": {},
     "output_type": "execute_result"
    },
    {
     "data": {
      "image/png": "[encoded data removed]",
      "text/plain": [
       "<Figure size 432x288 with 1 Axes>"
      ]
     },
     "metadata": {
      "needs_background": "light"
     },
     "output_type": "display_data"
    }
   ],
   "source": [
    "combCan['infAdj-xiu'].plot()"
   ]
  },
  {
   "cell_type": "code",
   "execution_count": 19,
   "metadata": {},
   "outputs": [
    {
     "data": {
      "text/plain": [
       "<matplotlib.axes._subplots.AxesSubplot at 0x13667e700>"
      ]
     },
     "execution_count": 19,
     "metadata": {},
     "output_type": "execute_result"
    },
    {
     "data": {
      "image/png": "[encoded data removed]",
      "text/plain": [
       "<Figure size 432x288 with 1 Axes>"
      ]
     },
     "metadata": {
      "needs_background": "light"
     },
     "output_type": "display_data"
    }
   ],
   "source": [
    "combCan['gdpAdj-xiu'].plot()"
   ]
  },
  {
   "cell_type": "code",
   "execution_count": 20,
   "metadata": {},
   "outputs": [
    {
     "data": {
      "text/plain": [
       "<matplotlib.axes._subplots.AxesSubplot at 0x135ad82e0>"
      ]
     },
     "execution_count": 20,
     "metadata": {},
     "output_type": "execute_result"
    },
    {
     "data": {
      "image/png": "[encoded data removed]",
      "text/plain": [
       "<Figure size 432x288 with 1 Axes>"
      ]
     },
     "metadata": {
      "needs_background": "light"
     },
     "output_type": "display_data"
    }
   ],
   "source": [
    "combCan['gdpinfAdj-spy'].plot()"
   ]
  },
  {
   "cell_type": "code",
   "execution_count": null,
   "metadata": {},
   "outputs": [],
   "source": []
  }
 ],
 "metadata": {
  "kernelspec": {
   "display_name": "Python 3",
   "language": "python",
   "name": "python3"
  },
  "language_info": {
   "codemirror_mode": {
    "name": "ipython",
    "version": 3
   },
   "file_extension": ".py",
   "mimetype": "text/x-python",
   "name": "python",
   "nbconvert_exporter": "python",
   "pygments_lexer": "ipython3",
   "version": "3.8.0"
  }
 },
 "nbformat": 4,
 "nbformat_minor": 2
}
