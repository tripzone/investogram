{
 "cells": [
  {
   "cell_type": "code",
   "execution_count": null,
   "metadata": {
    "collapsed": true
   },
   "outputs": [],
   "source": [
    "import requests\n",
    "import matplotlib.pyplot as plt\n",
    "import numpy as np\n",
    "import pandas as pd\n",
    "import os.path\n",
    "from sklearn.svm import SVC\n",
    "from sklearn.utils import shuffle\n",
    "from sklearn.model_selection import train_test_split\n",
    "from sklearn.metrics import accuracy_score, confusion_matrix"
   ]
  },
  {
   "cell_type": "code",
   "execution_count": null,
   "metadata": {
    "collapsed": false
   },
   "outputs": [],
   "source": [
    "SPY = pd.read_csv(\"SPY.csv\").set_index('Date').iloc[::-1]\n",
    "print(SPY['Change %'][SPY['Change %']> 0.0].count(), 'out of',SPY['Change %'].count())\n",
    "MA20 = SPY['Price'].rolling(20).mean()\n",
    "MA60 = SPY['Price'].rolling(60).mean()\n",
    "MA200 = SPY['Price'].rolling(200).mean()\n",
    "RSTD = SPY['Price'].rolling(20).std()\n",
    "BLUp = MA20 + 2*RSTD\n",
    "BLDown = MA20 - 2*RSTD\n",
    "dayAfter = SPY['Price'].shift(-1)\n",
    "\n",
    "MA20 = pd.DataFrame(MA20).rename(columns={'Price': 'MA20'})\n",
    "MA60 = pd.DataFrame(MA60).rename(columns={'Price': 'MA60'})\n",
    "MA200 = pd.DataFrame(MA200).rename(columns={'Price': 'MA200'})\n",
    "RSTD = pd.DataFrame(RSTD).rename(columns={'Price': 'RSTD'})\n",
    "BLUp = pd.DataFrame(BLUp).rename(columns={'Price': 'BLUp'})\n",
    "BLDown = pd.DataFrame(BLDown).rename(columns={'Price': 'BLDown'})\n",
    "dayAfter = pd.DataFrame(dayAfter).rename(columns={'Price': 'dayAfter'})\n",
    "\n",
    "SPY = SPY.join(MA20).join(MA60).join(MA200).join(RSTD).join(BLUp).join(BLDown).join(dayAfter)\n",
    "SPY = SPY.dropna()\n",
    "SPYNorm = SPY/SPY.max()\n",
    "print(list(SPYNorm))\n",
    "# RSTD.hist(bins=40)\n",
    "# plt.show()\n",
    "# change.mean()"
   ]
  },
  {
   "cell_type": "code",
   "execution_count": null,
   "metadata": {
    "collapsed": false
   },
   "outputs": [],
   "source": [
    "def modelExec(df):\n",
    "    df = shuffle(df)\n",
    "    train, test = train_test_split(df, test_size = 0.2)\n",
    "    x=train.as_matrix(columns=train.columns[1:])\n",
    "    y=train.as_matrix(columns=train.columns[0:1]).ravel()\n",
    "    x_=test.as_matrix(columns=test.columns[1:])\n",
    "    y_=test.as_matrix(columns=test.columns[0:1]).ravel()\n",
    "#     clf = SVC()\n",
    "#     clf.fit(x, y)\n",
    "#     y_pred = clf.predict(x_)\n",
    "    return {\"cf\": confusion_matrix(y_, y_pred), \"ac\": accuracy_score(y_, y_pred) }\n",
    "\n",
    "modelExec(joinDf)   \n"
   ]
  },
  {
   "cell_type": "code",
   "execution_count": null,
   "metadata": {
    "collapsed": true
   },
   "outputs": [],
   "source": [
    "sumAc = 0;\n",
    "sumCf = np.zeros(shape=(2,2))\n",
    "numberofIterations = 1\n",
    "for i in range(numberofIterations):\n",
    "    executedModel =  modelExec(joinDf)\n",
    "    sumAc += executedModel[\"ac\"]\n",
    "    sumCf += executedModel[\"cf\"]\n",
    "\n",
    "print('TN   FP')\n",
    "print('FN   TP')\n",
    "print(sumCf/numberofIterations)\n",
    "print('accurracy', sumAc/numberofIterations)"
   ]
  }
 ],
 "metadata": {
  "kernelspec": {
   "display_name": "Python 3",
   "language": "python",
   "name": "python3"
  },
  "language_info": {
   "codemirror_mode": {
    "name": "ipython",
    "version": 3
   },
   "file_extension": ".py",
   "mimetype": "text/x-python",
   "name": "python",
   "nbconvert_exporter": "python",
   "pygments_lexer": "ipython3",
   "version": "3.5.1"
  }
 },
 "nbformat": 4,
 "nbformat_minor": 1
}
